{
 "cells": [
  {
   "cell_type": "markdown",
   "metadata": {},
   "source": [
    "# Face & Eye detectio using HAAR Cascade Classifier"
   ]
  },
  {
   "cell_type": "code",
   "execution_count": 1,
   "metadata": {},
   "outputs": [],
   "source": [
    "import cv2\n",
    "import numpy as np\n",
    "import os\n",
    "os.chdir(\"F:\\\\Opencv\\\\opencv-master\\\\samples\\\\data\")\n",
    "face_classifier= cv2.CascadeClassifier(\"F:\\Opencv\\opencv-master\\Haarcascades\\haarcascade_frontalface_default.xml\") #load face dectection HAAR cascade xml file\n",
    "image= cv2.imread('trump.jpg') # load image\n",
    "gray= cv2.cvtColor(image, cv2.COLOR_BGRA2GRAY) # covert image into gray image\n",
    "#our classifiers retunrs the ROI of the detected faces as tuple \n",
    "#it stores the top left coordinate and bottom left cooridinate\n",
    "faces= face_classifier.detectMultiScale(gray, 1.3,5)\n",
    "#when no face detected it returns the empty tuple \n",
    "if faces is ():\n",
    "    print(\"No face detected\")\n",
    "\n",
    "#we iterate through our faces array and draw rectangle\n",
    "#over each face in faces\n",
    "for (x,y,w,h) in faces:\n",
    "    cv2.rectangle(image,(x,y),(x+w, y+h),(127,0,255),2)\n",
    "    cv2.imshow(\"face_detection\", image)\n",
    "    cv2.waitKey()\n",
    "cv2.destroyAllWindows()"
   ]
  },
  {
   "cell_type": "markdown",
   "metadata": {},
   "source": [
    "Eye detection techniques"
   ]
  },
  {
   "cell_type": "code",
   "execution_count": 2,
   "metadata": {},
   "outputs": [],
   "source": [
    "import cv2\n",
    "import numpy as np\n",
    "import os\n",
    "os.chdir(\"F:\\\\Opencv\\\\opencv-master\\\\samples\\\\data\")\n",
    "face_classifier= cv2.CascadeClassifier(\"F:\\Opencv\\opencv-master\\Haarcascades\\haarcascade_frontalface_default.xml\") #load face dectection HAAR cascade xml file\n",
    "eye_classifier= cv2.CascadeClassifier(\"F:\\Opencv\\opencv-master\\Haarcascades\\haarcascade_eye.xml\")# load the eye detection HAAR cascade xml file\n",
    "image= cv2.imread('modi.jpg') # load image\n",
    "gray= cv2.cvtColor(image, cv2.COLOR_BGRA2GRAY) # covert image into gray image\n",
    "#our classifiers retunrs the ROI of the detected faces as tuple \n",
    "#it stores the top left coordinate and bottom left cooridinate\n",
    "faces= face_classifier.detectMultiScale(gray, 1.3,5)\n",
    "#when no face detected it returns the empty tuple \n",
    "if faces is ():\n",
    "    print(\"No face detected\")\n",
    "\n",
    "#we iterate through our faces array and draw rectangle\n",
    "#over each face in faces\n",
    "for (x,y,w,h) in faces:\n",
    "    cv2.rectangle(image,(x,y),(x+w, y+h),(127,0,255),2)\n",
    "    cv2.imshow(\"img\", image)\n",
    "    cv2.waitKey()\n",
    "    roi_gray= gray[y:y+h,x:x+w]\n",
    "    roi_color= image[y:y+h,x:x+w]\n",
    "    eyes= eye_classifier.detectMultiScale(roi_gray)\n",
    "    for (ex, ey, ew, eh) in eyes:\n",
    "        cv2.rectangle(roi_color, (ex,ey), (ex+ew, ey+eh), (255,255,0),2)\n",
    "        cv2.imshow(\"img\", image)\n",
    "        cv2.waitKey()\n",
    "cv2.destroyAllWindows()"
   ]
  },
  {
   "cell_type": "code",
   "execution_count": null,
   "metadata": {},
   "outputs": [],
   "source": []
  }
 ],
 "metadata": {
  "kernelspec": {
   "display_name": "Python 3",
   "language": "python",
   "name": "python3"
  },
  "language_info": {
   "codemirror_mode": {
    "name": "ipython",
    "version": 3
   },
   "file_extension": ".py",
   "mimetype": "text/x-python",
   "name": "python",
   "nbconvert_exporter": "python",
   "pygments_lexer": "ipython3",
   "version": "3.7.3"
  }
 },
 "nbformat": 4,
 "nbformat_minor": 2
}
