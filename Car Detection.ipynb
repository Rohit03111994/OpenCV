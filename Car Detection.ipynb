{
 "cells": [
  {
   "cell_type": "code",
   "execution_count": 1,
   "metadata": {},
   "outputs": [],
   "source": [
    "import cv2\n",
    "import numpy as np\n",
    "import time\n",
    "import os\n",
    "os.chdir(\"F:\\\\Opencv\\\\opencv-master\\\\samples\\\\data\")\n",
    "car_detection=cv2.CascadeClassifier(\"F:\\Opencv\\opencv-master\\Haarcascades\\haarcascade_car.xml\")\n",
    "cap=cv2.VideoCapture(\"F:\\\\Opencv\\\\opencv-master\\\\samples\\\\data\\\\cars.avi\")\n",
    "\n",
    "\n",
    "while cap.isOpened():\n",
    "    \n",
    "    ret, frame=cap.read()\n",
    "    time.sleep(0.05)\n",
    "    gray= cv2.cvtColor(frame, cv2.COLOR_BGR2GRAY)\n",
    "    \n",
    "    cars= car_detection.detectMultiScale(gray, 1.2,3)\n",
    "    \n",
    "    for (x, y, w, h) in cars:\n",
    "        cv2.rectangle(frame,(x,y),(x+w, y+h),(255,0,255),2)\n",
    "        cv2.imshow(\"ped\", frame)\n",
    "    if cv2.waitKey(1)& 0xFF == ord('q'): # is the enter key\n",
    "        break\n",
    "\n",
    "cap.release()\n",
    "cv2.destroyAllWindows()"
   ]
  },
  {
   "cell_type": "code",
   "execution_count": null,
   "metadata": {},
   "outputs": [],
   "source": []
  }
 ],
 "metadata": {
  "kernelspec": {
   "display_name": "Python 3",
   "language": "python",
   "name": "python3"
  },
  "language_info": {
   "codemirror_mode": {
    "name": "ipython",
    "version": 3
   },
   "file_extension": ".py",
   "mimetype": "text/x-python",
   "name": "python",
   "nbconvert_exporter": "python",
   "pygments_lexer": "ipython3",
   "version": "3.7.3"
  }
 },
 "nbformat": 4,
 "nbformat_minor": 2
}
